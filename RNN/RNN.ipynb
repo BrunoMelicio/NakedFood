{
 "cells": [
  {
   "cell_type": "code",
   "execution_count": 1,
   "metadata": {},
   "outputs": [],
   "source": [
    "datasetFolder = \"/home/john/Downloads/food-ingredient-lists/\"\n",
    "datasetName = \"ingredients v1.csv\"\n",
    "datasetPath = datasetFolder + datasetName"
   ]
  },
  {
   "cell_type": "markdown",
   "metadata": {},
   "source": [
    "## Read Data"
   ]
  },
  {
   "cell_type": "code",
   "execution_count": 2,
   "metadata": {},
   "outputs": [
    {
     "name": "stdout",
     "output_type": "stream",
     "text": [
      "Processed 10000 lines.\n",
      "{'id': 'AVphBRHOilAPnD_x0OrE', 'asins': 'B00HXST15C', 'brand': 'Simon Fischer', 'categories': 'Grocery & Gourmet Food,Food,Grocery', 'dateAdded': '2017-01-07T20:13:17Z', 'dateUpdated': '2017-06-30T16:48:02Z', 'ean': '41642026706', 'features.key': 'Ingredients', 'features.value': 'Dried Prunes,Water,Corn Syrup,Sugar,Pectin.', 'manufacturer': 'Sokol And Company', 'manufacturerNumber': '33829', 'name': 'Simon Fischer Fruit Bttr Prune Lekvar', 'sizes': '', 'upc': '41642026706', 'weight': '10.6 pounds', '': ''}\n"
     ]
    }
   ],
   "source": [
    "import csv\n",
    "\n",
    "dataset = []\n",
    "with open(datasetPath, mode=\"r\", encoding=\"utf-8-sig\") as csv_file:\n",
    "    csv_reader = csv.reader(csv_file, delimiter=',')\n",
    "    line_count = 0\n",
    "    keys = []\n",
    "    for row in csv_reader:\n",
    "        if line_count == 0:\n",
    "            keys = row\n",
    "            line_count += 1\n",
    "        else:\n",
    "            record = dict(zip(keys, row))\n",
    "            dataset+= [record]\n",
    "    print(f'Processed {len(dataset)} lines.')\n",
    "\n",
    "print(dataset[0])"
   ]
  },
  {
   "cell_type": "markdown",
   "metadata": {},
   "source": [
    "## Filtering Food which doesn't has ingredients"
   ]
  },
  {
   "cell_type": "code",
   "execution_count": 3,
   "metadata": {},
   "outputs": [
    {
     "name": "stdout",
     "output_type": "stream",
     "text": [
      "{'id': 'AVphBRHOilAPnD_x0OrE', 'asins': 'B00HXST15C', 'brand': 'Simon Fischer', 'categories': 'Grocery & Gourmet Food,Food,Grocery', 'dateAdded': '2017-01-07T20:13:17Z', 'dateUpdated': '2017-06-30T16:48:02Z', 'ean': '41642026706', 'features.key': 'Ingredients', 'features.value': 'Dried Prunes,Water,Corn Syrup,Sugar,Pectin.', 'manufacturer': 'Sokol And Company', 'manufacturerNumber': '33829', 'name': 'Simon Fischer Fruit Bttr Prune Lekvar', 'sizes': '', 'upc': '41642026706', 'weight': '10.6 pounds', '': ''}\n"
     ]
    }
   ],
   "source": [
    "dataset = [row for row in dataset \n",
    "           if row[\"features.key\"].lower() == \"ingredients\"]\n",
    "print(dataset[0])"
   ]
  },
  {
   "cell_type": "markdown",
   "metadata": {},
   "source": [
    "## get food label, ingredients tuple"
   ]
  },
  {
   "cell_type": "code",
   "execution_count": 4,
   "metadata": {},
   "outputs": [
    {
     "name": "stdout",
     "output_type": "stream",
     "text": [
      "{'Name': 'Jolly Time Popcorn', 'Ingredients': ['Salt', ' Yellow 5 Lake', ' Tricalcium Phosphate And Artificial Butter Flavor']}\n"
     ]
    }
   ],
   "source": [
    "finalDataset = [\n",
    "    {\"Name\":record[\"name\"], \"Ingredients\": record[\"features.value\"].strip(\".\").split(\",\")}\n",
    "    for record in dataset \n",
    "    if len(record[\"features.value\"].strip(\".\").split(\",\")) < 50 and \n",
    "    2 < len(record[\"features.value\"].strip(\".\").split(\",\")) and\n",
    "    len(record[\"name\"].split()) < 6]\n",
    "print(finalDataset[0])"
   ]
  },
  {
   "cell_type": "code",
   "execution_count": 5,
   "metadata": {},
   "outputs": [
    {
     "name": "stdout",
     "output_type": "stream",
     "text": [
      "jolly time popcorn\n",
      "['salt', 'yellow 5 lake', 'tricalcium phosphate and artificial butter flavor']\n"
     ]
    }
   ],
   "source": [
    "ingredients = [\n",
    "    ['startseq'] + [ing.lower().strip() for ing in rec[\"Ingredients\"]] + ['endseq']\n",
    "    for rec in finalDataset]\n",
    "food = [rec[\"Name\"].lower().strip() for rec in finalDataset]\n",
    "print(food[0])\n",
    "print(ingredients[0])"
   ]
  },
  {
   "cell_type": "markdown",
   "metadata": {},
   "source": [
    "## Cleaning Data"
   ]
  },
  {
   "cell_type": "code",
   "execution_count": 6,
   "metadata": {},
   "outputs": [
    {
     "name": "stdout",
     "output_type": "stream",
     "text": [
      "['salt', 'yellow lake', 'tricalcium phosphate and artificial butter flavor']\n"
     ]
    }
   ],
   "source": [
    "import string\n",
    "# prepare translation table for removing punctuation\n",
    "table = str.maketrans('', '', string.punctuation)\n",
    "for i in range(len(ingredients)):\n",
    "    key = ingredients[i]\n",
    "    for j in range(len(key)):\n",
    "        desc = key[j]\n",
    "        # tokenize\n",
    "        desc = desc.split()\n",
    "        # convert to lower case\n",
    "        desc = [word.lower() for word in desc]\n",
    "        # remove punctuation from each token\n",
    "        desc = [w.translate(table) for w in desc]\n",
    "        # remove hanging 's' and 'a'\n",
    "        desc = [word for word in desc if len(word)>1]\n",
    "        # remove tokens with numbers in them\n",
    "        desc = [word for word in desc if word.isalpha()]\n",
    "        # store as string\n",
    "        key[j] = ' '.join(desc)\n",
    "print(ingredients[0])"
   ]
  },
  {
   "cell_type": "markdown",
   "metadata": {},
   "source": [
    "## Original & Distinct Vocabulary Space"
   ]
  },
  {
   "cell_type": "code",
   "execution_count": 7,
   "metadata": {},
   "outputs": [
    {
     "name": "stdout",
     "output_type": "stream",
     "text": [
      "All Vocabulary = 23385\n",
      "Distinct Vocabulary = 5523\n"
     ]
    }
   ],
   "source": [
    "allVocab = [i for ing in ingredients for i in ing]\n",
    "vocabulary = set(allVocab)\n",
    "print(\"All Vocabulary = %d\" % len(allVocab))\n",
    "print(\"Distinct Vocabulary = %d\" % len(vocabulary))"
   ]
  },
  {
   "cell_type": "markdown",
   "metadata": {},
   "source": [
    "## Freq-based Filtering"
   ]
  },
  {
   "cell_type": "code",
   "execution_count": 8,
   "metadata": {},
   "outputs": [
    {
     "name": "stdout",
     "output_type": "stream",
     "text": [
      "salt\n",
      "preprocessed words 344 \n"
     ]
    }
   ],
   "source": [
    "# Create a list of all the training captions\n",
    "all_train_ingreds = allVocab\n",
    "# for key, val in train_descriptions.items():\n",
    "#     for cap in val:\n",
    "#         all_train_captions.append(cap)\n",
    "\n",
    "# Consider only words which occur at least 10 times in the corpus\n",
    "word_count_threshold = 10\n",
    "word_counts = {}\n",
    "nIngreds = 0\n",
    "for ingred in all_train_ingreds:\n",
    "    nIngreds += 1\n",
    "#     for w in ingred.split(' '):\n",
    "    w = ingred\n",
    "    word_counts[w] = word_counts.get(w, 0) + 1\n",
    "\n",
    "vocab = [w for w in word_counts if word_counts[w] >= word_count_threshold]\n",
    "\n",
    "print(vocab[0])\n",
    "print('preprocessed words %d ' % len(vocab))\n",
    "# preprocessed words 1651"
   ]
  },
  {
   "cell_type": "markdown",
   "metadata": {},
   "source": [
    "## Vocabulary Encoding"
   ]
  },
  {
   "cell_type": "code",
   "execution_count": 68,
   "metadata": {},
   "outputs": [
    {
     "name": "stdout",
     "output_type": "stream",
     "text": [
      "Number of unique tokens: 4851\n"
     ]
    }
   ],
   "source": [
    "encVocab = {\"<UNK>\": 1, \"<PAD>\": 0}\n",
    "for ingred in vocab: # list of list of ingredients\n",
    "    for token in ingred.split():\n",
    "        if token not in encVocab.keys():\n",
    "            encVocab[token] = len(encVocab)\n",
    "    if ingred not in encVocab.keys():\n",
    "        encVocab[\"_\".join(ingred.split())] = len(encVocab)\n",
    "        \n",
    "for f in food:\n",
    "    if f not in encVocab.keys():\n",
    "        encVocab[\"_\".join(f.split())] = len(encVocab)\n",
    "    for token in f.split():\n",
    "        if token not in encVocab.keys():\n",
    "            encVocab[token] = len(encVocab)\n",
    "print(\"Number of unique tokens: {}\".format(len(encVocab)))\n",
    "vocab_size = len(encVocab)"
   ]
  },
  {
   "cell_type": "code",
   "execution_count": 69,
   "metadata": {},
   "outputs": [],
   "source": [
    "wordtoix = {}\n",
    "ixtoword = {}\n",
    "for word, ix in encVocab.items():\n",
    "    wordtoix[word] = ix\n",
    "    ixtoword[ix] = word\n"
   ]
  },
  {
   "cell_type": "markdown",
   "metadata": {},
   "source": [
    "## Determine the maximum ingredients count per meal"
   ]
  },
  {
   "cell_type": "code",
   "execution_count": 70,
   "metadata": {},
   "outputs": [
    {
     "name": "stdout",
     "output_type": "stream",
     "text": [
      "Maximum Ingredients count = 49\n"
     ]
    }
   ],
   "source": [
    "allIngreds = ingredients\n",
    "\n",
    "def maxCount(allIngreds):\n",
    "    mx = max(len(ingreds) for ingreds in allIngreds)\n",
    "    return mx\n",
    "\n",
    "max_count = maxCount(allIngreds)\n",
    "print(\"Maximum Ingredients count = %d\" % max_count)"
   ]
  },
  {
   "cell_type": "markdown",
   "metadata": {},
   "source": [
    "## Data Generator"
   ]
  },
  {
   "cell_type": "code",
   "execution_count": 107,
   "metadata": {},
   "outputs": [],
   "source": [
    "from keras.preprocessing.sequence import pad_sequences\n",
    "from keras.utils import to_categorical\n",
    "# data generator, intended to be used in a call to model.fit_generator()\n",
    "def data_generator(ingredients, foods, wordtoix, max_length, num_foods_per_batch):\n",
    "    X1, X2, y = list(), list(), list()\n",
    "    n=0\n",
    "    # loop for ever over foods\n",
    "    while 1:\n",
    "        for idx, ingreds in enumerate(ingredients):\n",
    "            n+=1\n",
    "            # retrieve the food feature\n",
    "            food = foods[idx]\n",
    "            # encode the sequence\n",
    "            seq = [wordtoix[word] for word in ingreds if word in wordtoix]\n",
    "            \n",
    "            # split one sequence into multiple X, y pairs\n",
    "            for i in range(1, len(seq)):\n",
    "                # split into input and output pair\n",
    "                in_seq, out_seq = seq[:i], seq[i]\n",
    "                # pad input sequence\n",
    "                in_seq = pad_sequences([in_seq], maxlen=max_length)[0]\n",
    "                # encode output sequence\n",
    "                out_seq = to_categorical([out_seq], num_classes=vocab_size)[0]\n",
    "                # store\n",
    "                X1.append(food)\n",
    "                X2.append(in_seq)\n",
    "                y.append(out_seq)\n",
    "            # yield the batch data\n",
    "            if n==num_foods_per_batch:\n",
    "                yield [[array(X1), array(X2)], array(y)]\n",
    "                X1, X2, y = list(), list(), list()\n",
    "                n=0"
   ]
  },
  {
   "cell_type": "markdown",
   "metadata": {},
   "source": [
    "## Word Embeddings"
   ]
  },
  {
   "cell_type": "code",
   "execution_count": 72,
   "metadata": {},
   "outputs": [],
   "source": [
    "import os, numpy as np\n",
    "# Load Glove vectors\n",
    "glove_dir = '../dataset/glove'\n",
    "embeddings_index = {} # empty dictionary\n",
    "f = open(os.path.join(glove_dir, 'glove.6B.200d.txt'), encoding=\"utf-8\")\n",
    "\n",
    "for line in f:\n",
    "    values = line.split()\n",
    "    word = values[0]\n",
    "    coefs = np.asarray(values[1:], dtype='float32')\n",
    "    embeddings_index[word] = coefs\n",
    "f.close()"
   ]
  },
  {
   "cell_type": "code",
   "execution_count": null,
   "metadata": {},
   "outputs": [],
   "source": []
  },
  {
   "cell_type": "code",
   "execution_count": 73,
   "metadata": {},
   "outputs": [],
   "source": [
    "embedding_dim = 200# Get 200-dim dense vector for each of the 10000 words in out vocabulary\n",
    "embedding_matrix = np.zeros((vocab_size, embedding_dim))\n",
    "\n",
    "for ingred, i in wordtoix.items():\n",
    "    #if i < max_words:\n",
    "    # else np.zeros((200,))\n",
    "    embedding_vector = np.sum([embeddings_index.get(word) for word in ingred.split(\"_\") if embeddings_index.get(word) is not None], axis = 0)\n",
    "    if embedding_vector is not None:\n",
    "        # Words not found in the embedding index will be all zeros\n",
    "        embedding_matrix[i] = embedding_vector"
   ]
  },
  {
   "cell_type": "markdown",
   "metadata": {},
   "source": [
    "# 12. Model Architecture"
   ]
  },
  {
   "cell_type": "code",
   "execution_count": 87,
   "metadata": {},
   "outputs": [
    {
     "name": "stdout",
     "output_type": "stream",
     "text": [
      "Food Vocab size: 1702\n",
      "jolly_time_popcorn\n",
      "salt yellow_lake tricalcium_phosphate_and_artificial_butter_flavor\n"
     ]
    }
   ],
   "source": [
    "cleanIngredsList = [\" \".join([\"_\".join(ingred.split()) for ingred in ingreds]) for ingreds in ingredients]\n",
    "\n",
    "cleanFood = [\"_\".join(f.split()) for f in food]\n",
    "food_vocab = list(set(cleanFood))\n",
    "food_vocab_size = len(food_vocab)\n",
    "\n",
    "print(\"Food Vocab size: %d\" % food_vocab_size)\n",
    "print(cleanFood[0])\n",
    "print(cleanIngredsList[0])"
   ]
  },
  {
   "cell_type": "code",
   "execution_count": 127,
   "metadata": {},
   "outputs": [],
   "source": [
    "from keras.layers import Dropout, Dense, Embedding, LSTM\n",
    "from keras import Input\n",
    "from keras.layers.merge import add\n",
    "from keras.models import Model\n",
    "\n",
    "# image feature extractor model\n",
    "inputs1 = Input(shape=(200,))\n",
    "# fe0 = Embedding(vocab_size, embedding_dim, mask_zero=True)(inputs1)\n",
    "fe1 = Dropout(0.5)(inputs1)\n",
    "fe2 = Dense(256, activation='relu')(fe1)\n",
    "\n",
    "# partial caption sequence model\n",
    "inputs2 = Input(shape=(max_count,))\n",
    "se1 = Embedding(vocab_size, embedding_dim, mask_zero=True)(inputs2)\n",
    "se2 = Dropout(0.5)(se1)\n",
    "se3 = LSTM(256)(se2)\n",
    "\n",
    "# decoder (feed forward) model\n",
    "decoder1 = add([fe2, se3])\n",
    "decoder2 = Dense(256, activation='relu')(decoder1)\n",
    "outputs = Dense(vocab_size, activation='softmax')(decoder2)\n",
    "\n",
    "# merge the two input models\n",
    "model = Model(inputs=[inputs1, inputs2], outputs=outputs)"
   ]
  },
  {
   "cell_type": "code",
   "execution_count": 128,
   "metadata": {},
   "outputs": [
    {
     "name": "stdout",
     "output_type": "stream",
     "text": [
      "Model: \"model_9\"\n",
      "__________________________________________________________________________________________________\n",
      "Layer (type)                    Output Shape         Param #     Connected to                     \n",
      "==================================================================================================\n",
      "input_25 (InputLayer)           (None, 49)           0                                            \n",
      "__________________________________________________________________________________________________\n",
      "input_24 (InputLayer)           (None, 200)          0                                            \n",
      "__________________________________________________________________________________________________\n",
      "embedding_16 (Embedding)        (None, 49, 200)      970200      input_25[0][0]                   \n",
      "__________________________________________________________________________________________________\n",
      "dropout_23 (Dropout)            (None, 200)          0           input_24[0][0]                   \n",
      "__________________________________________________________________________________________________\n",
      "dropout_24 (Dropout)            (None, 49, 200)      0           embedding_16[0][0]               \n",
      "__________________________________________________________________________________________________\n",
      "dense_30 (Dense)                (None, 256)          51456       dropout_23[0][0]                 \n",
      "__________________________________________________________________________________________________\n",
      "lstm_11 (LSTM)                  (None, 256)          467968      dropout_24[0][0]                 \n",
      "__________________________________________________________________________________________________\n",
      "add_10 (Add)                    (None, 256)          0           dense_30[0][0]                   \n",
      "                                                                 lstm_11[0][0]                    \n",
      "__________________________________________________________________________________________________\n",
      "dense_31 (Dense)                (None, 256)          65792       add_10[0][0]                     \n",
      "__________________________________________________________________________________________________\n",
      "dense_32 (Dense)                (None, 4851)         1246707     dense_31[0][0]                   \n",
      "==================================================================================================\n",
      "Total params: 2,802,123\n",
      "Trainable params: 2,802,123\n",
      "Non-trainable params: 0\n",
      "__________________________________________________________________________________________________\n"
     ]
    }
   ],
   "source": [
    "model.summary()"
   ]
  },
  {
   "cell_type": "markdown",
   "metadata": {},
   "source": [
    "### set embedding layer to untrainable"
   ]
  },
  {
   "cell_type": "code",
   "execution_count": 130,
   "metadata": {},
   "outputs": [
    {
     "data": {
      "text/plain": [
       "<keras.layers.embeddings.Embedding at 0x7f569e984550>"
      ]
     },
     "execution_count": 130,
     "metadata": {},
     "output_type": "execute_result"
    }
   ],
   "source": [
    "model.layers[2]"
   ]
  },
  {
   "cell_type": "code",
   "execution_count": 131,
   "metadata": {},
   "outputs": [],
   "source": [
    "model.layers[2].set_weights([embedding_matrix])\n",
    "model.layers[2].trainable = False\n",
    "\n",
    "# model.layers[3].set_weights([embedding_matrix])\n",
    "# model.layers[3].trainable = False"
   ]
  },
  {
   "cell_type": "markdown",
   "metadata": {},
   "source": [
    "### compile the model using adam optimizer"
   ]
  },
  {
   "cell_type": "code",
   "execution_count": 132,
   "metadata": {},
   "outputs": [],
   "source": [
    "model.compile(loss='categorical_crossentropy', optimizer='adam')"
   ]
  },
  {
   "cell_type": "code",
   "execution_count": 133,
   "metadata": {},
   "outputs": [],
   "source": [
    "epochs = 10\n",
    "number_pics_per_bath = 3\n",
    "# training_food_ingredients = dict(zip(cleanFood, cleanIngredsList))\n",
    "steps = len(cleanIngredsList)//number_pics_per_bath"
   ]
  },
  {
   "cell_type": "code",
   "execution_count": 134,
   "metadata": {},
   "outputs": [],
   "source": [
    "foodEmbeddings = np.zeros((len(food), embedding_dim))\n",
    "\n",
    "for i, f in enumerate(food):\n",
    "    embedding_vector = np.sum([embeddings_index.get(word) for word in f.split(\"_\") if embeddings_index.get(word) is not None], axis = 0)\n",
    "    if embedding_vector is not None:\n",
    "        # Words not found in the embedding index will be all zeros\n",
    "        foodEmbeddings[i] = embedding_vector"
   ]
  },
  {
   "cell_type": "code",
   "execution_count": 136,
   "metadata": {},
   "outputs": [
    {
     "name": "stdout",
     "output_type": "stream",
     "text": [
      "Epoch 1/1\n",
      "584/584 [==============================] - 480s 822ms/step - loss: 1.2764\n",
      "Epoch 1/1\n",
      "584/584 [==============================] - 472s 808ms/step - loss: 1.2645\n",
      "Epoch 1/1\n",
      "584/584 [==============================] - 38499s 66s/step - loss: 1.2565\n",
      "Epoch 1/1\n",
      "584/584 [==============================] - 486s 832ms/step - loss: 1.2497\n",
      "Epoch 1/1\n",
      "584/584 [==============================] - 479s 821ms/step - loss: 1.2433\n",
      "Epoch 1/1\n",
      "584/584 [==============================] - 495s 848ms/step - loss: 1.2383\n",
      "Epoch 1/1\n",
      "584/584 [==============================] - 484s 828ms/step - loss: 1.2333\n",
      "Epoch 1/1\n",
      "584/584 [==============================] - 476s 815ms/step - loss: 1.2277\n",
      "Epoch 1/1\n",
      "584/584 [==============================] - 470s 806ms/step - loss: 1.2229\n",
      "Epoch 1/1\n",
      "584/584 [==============================] - 3783s 6s/step - loss: 1.2169\n"
     ]
    }
   ],
   "source": [
    "from numpy import array\n",
    "for i in range(epochs):\n",
    "    generator = data_generator(cleanIngredsList, foodEmbeddings, wordtoix, max_count, number_pics_per_bath)\n",
    "    model.fit_generator(generator, epochs=1, steps_per_epoch=steps, verbose=1)\n",
    "    model.save('./model_weights/model_' + str(i) + '.h5')"
   ]
  },
  {
   "cell_type": "code",
   "execution_count": 137,
   "metadata": {},
   "outputs": [
    {
     "name": "stdout",
     "output_type": "stream",
     "text": [
      "Epoch 1/1\n",
      "584/584 [==============================] - 480s 822ms/step - loss: 1.2099\n",
      "Epoch 1/1\n",
      "584/584 [==============================] - 471s 807ms/step - loss: 1.2027\n",
      "Epoch 1/1\n",
      "584/584 [==============================] - 469s 803ms/step - loss: 1.1973\n",
      "Epoch 1/1\n",
      "584/584 [==============================] - 507s 868ms/step - loss: 1.1908\n",
      "Epoch 1/1\n",
      "584/584 [==============================] - 482s 825ms/step - loss: 1.1843\n",
      "Epoch 1/1\n",
      "584/584 [==============================] - 476s 816ms/step - loss: 1.1769\n",
      "Epoch 1/1\n",
      "584/584 [==============================] - 483s 827ms/step - loss: 1.1698\n",
      "Epoch 1/1\n",
      "584/584 [==============================] - 480s 822ms/step - loss: 1.1626\n",
      "Epoch 1/1\n",
      "584/584 [==============================] - 489s 837ms/step - loss: 1.1550\n",
      "Epoch 1/1\n",
      "584/584 [==============================] - 485s 831ms/step - loss: 1.1452\n"
     ]
    }
   ],
   "source": [
    "for i in range(epochs):\n",
    "    generator = data_generator(cleanIngredsList, foodEmbeddings, wordtoix, max_count, number_pics_per_bath)\n",
    "    model.fit_generator(generator, epochs=1, steps_per_epoch=steps, verbose=1)\n",
    "    model.save('./model_weights/model_' + str(i) + '.h5')"
   ]
  },
  {
   "cell_type": "code",
   "execution_count": 140,
   "metadata": {},
   "outputs": [],
   "source": [
    "model.optimizer.learning_rate = 0.0001"
   ]
  },
  {
   "cell_type": "code",
   "execution_count": 142,
   "metadata": {},
   "outputs": [],
   "source": [
    "# model.optimizer.lr = 0.0001\n",
    "epochs = 10\n",
    "number_pics_per_bath = 6\n",
    "steps = len(cleanIngredsList)//number_pics_per_bath"
   ]
  },
  {
   "cell_type": "code",
   "execution_count": null,
   "metadata": {},
   "outputs": [
    {
     "name": "stdout",
     "output_type": "stream",
     "text": [
      "Epoch 1/1\n",
      "292/292 [==============================] - 464s 2s/step - loss: 1.1426\n",
      "Epoch 1/1\n",
      "190/292 [==================>...........] - ETA: 2:39 - loss: 1.1314"
     ]
    }
   ],
   "source": [
    "for i in range(epochs):\n",
    "    generator = data_generator(cleanIngredsList, foodEmbeddings, wordtoix, max_count, number_pics_per_bath)\n",
    "    model.fit_generator(generator, epochs=1, steps_per_epoch=steps, verbose=1)\n",
    "    #model.save('./model_weights/model_' + str(i) + '.h5')"
   ]
  },
  {
   "cell_type": "code",
   "execution_count": null,
   "metadata": {},
   "outputs": [],
   "source": [
    "model.save_weights('./model_weights/model_30.h5')"
   ]
  },
  {
   "cell_type": "markdown",
   "metadata": {},
   "source": [
    "# Prediction"
   ]
  },
  {
   "cell_type": "markdown",
   "metadata": {},
   "source": [
    "Load Model"
   ]
  },
  {
   "cell_type": "code",
   "execution_count": null,
   "metadata": {},
   "outputs": [],
   "source": [
    "model.load_weights('./model_weights/model_30.h5')"
   ]
  },
  {
   "cell_type": "markdown",
   "metadata": {},
   "source": [
    "Greedy Prediction Function"
   ]
  },
  {
   "cell_type": "code",
   "execution_count": null,
   "metadata": {},
   "outputs": [],
   "source": [
    "max_length = max_countount\n",
    "def greedySearch(food):\n",
    "    in_text = 'startseq'\n",
    "#     in_text = ''\n",
    "    for i in range(max_length):\n",
    "        sequence = [wordtoix[w] for w in in_text.split() if w in wordtoix]\n",
    "        sequence = pad_sequences([sequence], maxlen=max_length)\n",
    "        yhat = model.predict([food,sequence], verbose=0)\n",
    "        yhat = np.argmax(yhat)\n",
    "        word = ixtoword[yhat]\n",
    "        in_text += ' ' + word\n",
    "#   in_text in_text.strip()\n",
    "        if word == 'endseq':\n",
    "            break\n",
    "    final = in_text.split()\n",
    "    final = final[1:-1]\n",
    "    final = ' '.join(final)\n",
    "    return final"
   ]
  },
  {
   "cell_type": "code",
   "execution_count": null,
   "metadata": {},
   "outputs": [],
   "source": [
    "z= 15\n",
    "key = listfoodEmbeddingsEmbeddings.kefoodEmbeddingsz]\n",
    "foodEmbedding = foodEmbeddings[key]\n",
    "print(foodEmbedding.shape)\n",
    "\n",
    "print(\"Label: %s\" % cleanFood[key])\n",
    "print(\"Actual Ingredients: \", cleanIngredsList[key])\n",
    "print(\"Greedy Ingredients: \",greedySearch(image))"
   ]
  }
 ],
 "metadata": {
  "kernelspec": {
   "display_name": "Python 3",
   "language": "python",
   "name": "python3"
  },
  "language_info": {
   "codemirror_mode": {
    "name": "ipython",
    "version": 3
   },
   "file_extension": ".py",
   "mimetype": "text/x-python",
   "name": "python",
   "nbconvert_exporter": "python",
   "pygments_lexer": "ipython3",
   "version": "3.7.3"
  }
 },
 "nbformat": 4,
 "nbformat_minor": 2
}
