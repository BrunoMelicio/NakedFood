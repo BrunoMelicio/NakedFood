{
 "cells": [
  {
   "cell_type": "code",
   "execution_count": 1,
   "metadata": {},
   "outputs": [],
   "source": [
    "# import sys\n",
    "# !{sys.executable} -m pip install numpy\n",
    "# !{sys.executable} -m pip install tensorflow\n",
    "# !{sys.executable} -m pip install keras\n",
    "# import time"
   ]
  },
  {
   "cell_type": "markdown",
   "metadata": {},
   "source": [
    "## Libraries"
   ]
  },
  {
   "cell_type": "code",
   "execution_count": 2,
   "metadata": {},
   "outputs": [
    {
     "name": "stderr",
     "output_type": "stream",
     "text": [
      "Using TensorFlow backend.\n"
     ]
    }
   ],
   "source": [
    "import csv\n",
    "import string\n",
    "from keras.preprocessing.sequence import pad_sequences\n",
    "from keras.utils import to_categorical\n",
    "from numpy import array\n",
    "from keras.layers import Dropout, Dense, Embedding, LSTM\n",
    "from keras import Input\n",
    "from keras.layers.merge import add\n",
    "from keras.models import Model\n",
    "import os, numpy as np"
   ]
  },
  {
   "cell_type": "code",
   "execution_count": 3,
   "metadata": {},
   "outputs": [],
   "source": [
    "datasetFolder = \"../FoodIgredients/\"\n",
    "datasetName = \"ingredients v1.csv\"\n",
    "datasetPath = datasetFolder + datasetName"
   ]
  },
  {
   "cell_type": "markdown",
   "metadata": {},
   "source": [
    "## Read Data"
   ]
  },
  {
   "cell_type": "code",
   "execution_count": 4,
   "metadata": {},
   "outputs": [
    {
     "name": "stdout",
     "output_type": "stream",
     "text": [
      "Processed 10000 lines.\n",
      "{'id': 'AVphBRHOilAPnD_x0OrE', 'asins': 'B00HXST15C', 'brand': 'Simon Fischer', 'categories': 'Grocery & Gourmet Food,Food,Grocery', 'dateAdded': '2017-01-07T20:13:17Z', 'dateUpdated': '2017-06-30T16:48:02Z', 'ean': '41642026706', 'features.key': 'Ingredients', 'features.value': 'Dried Prunes,Water,Corn Syrup,Sugar,Pectin.', 'manufacturer': 'Sokol And Company', 'manufacturerNumber': '33829', 'name': 'Simon Fischer Fruit Bttr Prune Lekvar', 'sizes': '', 'upc': '41642026706', 'weight': '10.6 pounds', '': ''}\n"
     ]
    }
   ],
   "source": [
    "\n",
    "\n",
    "dataset = []\n",
    "with open(datasetPath, mode=\"r\", encoding=\"utf-8-sig\") as csv_file:\n",
    "    csv_reader = csv.reader(csv_file, delimiter=',')\n",
    "    line_count = 0\n",
    "    keys = []\n",
    "    for row in csv_reader:\n",
    "        if line_count == 0:\n",
    "            keys = row\n",
    "            line_count += 1\n",
    "        else:\n",
    "            record = dict(zip(keys, row))\n",
    "            dataset+= [record]\n",
    "    print(f'Processed {len(dataset)} lines.')\n",
    "\n",
    "print(dataset[0])"
   ]
  },
  {
   "cell_type": "markdown",
   "metadata": {},
   "source": [
    "## Filtering Food which doesn't has ingredients"
   ]
  },
  {
   "cell_type": "code",
   "execution_count": 5,
   "metadata": {},
   "outputs": [
    {
     "name": "stdout",
     "output_type": "stream",
     "text": [
      "{'id': 'AVphBRHOilAPnD_x0OrE', 'asins': 'B00HXST15C', 'brand': 'Simon Fischer', 'categories': 'Grocery & Gourmet Food,Food,Grocery', 'dateAdded': '2017-01-07T20:13:17Z', 'dateUpdated': '2017-06-30T16:48:02Z', 'ean': '41642026706', 'features.key': 'Ingredients', 'features.value': 'Dried Prunes,Water,Corn Syrup,Sugar,Pectin.', 'manufacturer': 'Sokol And Company', 'manufacturerNumber': '33829', 'name': 'Simon Fischer Fruit Bttr Prune Lekvar', 'sizes': '', 'upc': '41642026706', 'weight': '10.6 pounds', '': ''}\n"
     ]
    }
   ],
   "source": [
    "dataset = [row for row in dataset \n",
    "           if row[\"features.key\"].lower() == \"ingredients\"]\n",
    "print(dataset[0])"
   ]
  },
  {
   "cell_type": "markdown",
   "metadata": {},
   "source": [
    "## get food label, ingredients tuple"
   ]
  },
  {
   "cell_type": "code",
   "execution_count": 6,
   "metadata": {},
   "outputs": [
    {
     "name": "stdout",
     "output_type": "stream",
     "text": [
      "{'Name': 'Jolly Time Popcorn', 'Ingredients': ['Salt', ' Yellow 5 Lake', ' Tricalcium Phosphate And Artificial Butter Flavor']}\n"
     ]
    }
   ],
   "source": [
    "finalDataset = [\n",
    "    {\"Name\":record[\"name\"], \"Ingredients\": record[\"features.value\"].strip(\".\").split(\",\")}\n",
    "    for record in dataset \n",
    "    if len(record[\"features.value\"].strip(\".\").split(\",\")) < 50 and \n",
    "    2 < len(record[\"features.value\"].strip(\".\").split(\",\")) and\n",
    "    len(record[\"name\"].split()) < 6]\n",
    "print(finalDataset[0])"
   ]
  },
  {
   "cell_type": "code",
   "execution_count": 7,
   "metadata": {},
   "outputs": [
    {
     "name": "stdout",
     "output_type": "stream",
     "text": [
      "jolly time popcorn\n",
      "['startseq', 'salt', 'yellow 5 lake', 'tricalcium phosphate and artificial butter flavor', 'endseq']\n"
     ]
    }
   ],
   "source": [
    "ingredients = [\n",
    "    ['startseq'] + [ing.lower().strip() for ing in rec[\"Ingredients\"]] + ['endseq']\n",
    "    for rec in finalDataset]\n",
    "food = [rec[\"Name\"].lower().strip() for rec in finalDataset]\n",
    "print(food[0])\n",
    "print(ingredients[0])"
   ]
  },
  {
   "cell_type": "markdown",
   "metadata": {},
   "source": [
    "## Cleaning Data"
   ]
  },
  {
   "cell_type": "code",
   "execution_count": 8,
   "metadata": {},
   "outputs": [
    {
     "name": "stdout",
     "output_type": "stream",
     "text": [
      "['startseq', 'salt', 'yellow lake', 'tricalcium phosphate and artificial butter flavor', 'endseq']\n"
     ]
    }
   ],
   "source": [
    "\n",
    "# prepare translation table for removing punctuation\n",
    "table = str.maketrans('', '', string.punctuation)\n",
    "for i in range(len(ingredients)):\n",
    "    key = ingredients[i]\n",
    "    for j in range(len(key)):\n",
    "        desc = key[j]\n",
    "        # tokenize\n",
    "        desc = desc.split()\n",
    "        # convert to lower case\n",
    "        desc = [word.lower() for word in desc]\n",
    "        # remove punctuation from each token\n",
    "        desc = [w.translate(table) for w in desc]\n",
    "        # remove hanging 's' and 'a'\n",
    "        desc = [word for word in desc if len(word)>1]\n",
    "        # remove tokens with numbers in them\n",
    "        desc = [word for word in desc if word.isalpha()]\n",
    "        # store as string\n",
    "        key[j] = ' '.join(desc)\n",
    "print(ingredients[0])"
   ]
  },
  {
   "cell_type": "markdown",
   "metadata": {},
   "source": [
    "## Original & Distinct Vocabulary Space"
   ]
  },
  {
   "cell_type": "code",
   "execution_count": 9,
   "metadata": {},
   "outputs": [
    {
     "name": "stdout",
     "output_type": "stream",
     "text": [
      "All Vocabulary = 26893\n",
      "Distinct Vocabulary = 5525\n"
     ]
    }
   ],
   "source": [
    "allVocab = [i for ing in ingredients for i in ing]\n",
    "vocabulary = set(allVocab)\n",
    "print(\"All Vocabulary = %d\" % len(allVocab))\n",
    "print(\"Distinct Vocabulary = %d\" % len(vocabulary))"
   ]
  },
  {
   "cell_type": "markdown",
   "metadata": {},
   "source": [
    "## Freq-based Filtering"
   ]
  },
  {
   "cell_type": "code",
   "execution_count": 10,
   "metadata": {},
   "outputs": [
    {
     "name": "stdout",
     "output_type": "stream",
     "text": [
      "startseq\n",
      "preprocessed words 346 \n"
     ]
    }
   ],
   "source": [
    "# Create a list of all the training captions\n",
    "all_train_ingreds = allVocab\n",
    "# for key, val in train_descriptions.items():\n",
    "#     for cap in val:\n",
    "#         all_train_captions.append(cap)\n",
    "\n",
    "# Consider only words which occur at least 10 times in the corpus\n",
    "word_count_threshold = 10\n",
    "word_counts = {}\n",
    "nIngreds = 0\n",
    "for ingred in all_train_ingreds:\n",
    "    nIngreds += 1\n",
    "#     for w in ingred.split(' '):\n",
    "    w = ingred\n",
    "    word_counts[w] = word_counts.get(w, 0) + 1\n",
    "\n",
    "vocab = [w for w in word_counts if word_counts[w] >= word_count_threshold]\n",
    "\n",
    "print(vocab[0])\n",
    "print('preprocessed words %d ' % len(vocab))\n",
    "# preprocessed words 1651"
   ]
  },
  {
   "cell_type": "markdown",
   "metadata": {},
   "source": [
    "## Vocabulary Encoding"
   ]
  },
  {
   "cell_type": "code",
   "execution_count": 11,
   "metadata": {},
   "outputs": [
    {
     "name": "stdout",
     "output_type": "stream",
     "text": [
      "Number of unique tokens: 4853\n"
     ]
    }
   ],
   "source": [
    "encVocab = {\"<UNK>\": 1, \"<PAD>\": 0}\n",
    "for ingred in vocab: # list of list of ingredients\n",
    "    for token in ingred.split():\n",
    "        if token not in encVocab.keys():\n",
    "            encVocab[token] = len(encVocab)\n",
    "    if ingred not in encVocab.keys():\n",
    "        encVocab[\"_\".join(ingred.split())] = len(encVocab)\n",
    "        \n",
    "for f in food:\n",
    "    if f not in encVocab.keys():\n",
    "        encVocab[\"_\".join(f.split())] = len(encVocab)\n",
    "    for token in f.split():\n",
    "        if token not in encVocab.keys():\n",
    "            encVocab[token] = len(encVocab)\n",
    "print(\"Number of unique tokens: {}\".format(len(encVocab)))\n",
    "vocab_size = len(encVocab)"
   ]
  },
  {
   "cell_type": "code",
   "execution_count": 12,
   "metadata": {},
   "outputs": [],
   "source": [
    "wordtoix = {}\n",
    "ixtoword = {}\n",
    "for word, ix in encVocab.items():\n",
    "    wordtoix[word] = ix\n",
    "    ixtoword[ix] = word\n"
   ]
  },
  {
   "cell_type": "markdown",
   "metadata": {},
   "source": [
    "## Determine the maximum ingredients count per meal"
   ]
  },
  {
   "cell_type": "code",
   "execution_count": 13,
   "metadata": {},
   "outputs": [
    {
     "name": "stdout",
     "output_type": "stream",
     "text": [
      "Maximum Ingredients count = 51\n"
     ]
    }
   ],
   "source": [
    "allIngreds = ingredients\n",
    "\n",
    "def maxCount(allIngreds):\n",
    "    mx = max(len(ingreds) for ingreds in allIngreds)\n",
    "    return mx\n",
    "\n",
    "max_count = maxCount(allIngreds)\n",
    "print(\"Maximum Ingredients count = %d\" % max_count)"
   ]
  },
  {
   "cell_type": "markdown",
   "metadata": {},
   "source": [
    "## Data Generator"
   ]
  },
  {
   "cell_type": "code",
   "execution_count": 14,
   "metadata": {},
   "outputs": [],
   "source": [
    "\n",
    "# data generator, intended to be used in a call to model.fit_generator()\n",
    "def data_generator(ingredients, foods, wordtoix, max_length, num_foods_per_batch):\n",
    "    X1, X2, y = list(), list(), list()\n",
    "    n=0\n",
    "    # loop for ever over foods\n",
    "    while 1:\n",
    "        for idx, ingreds in enumerate(ingredients):\n",
    "            n+=1\n",
    "            # retrieve the food feature\n",
    "            food = foods[idx]\n",
    "            # encode the sequence\n",
    "            seq = [wordtoix[word] for word in ingreds if word in wordtoix]\n",
    "            \n",
    "            # split one sequence into multiple X, y pairs\n",
    "            for i in range(1, len(seq)):\n",
    "                # split into input and output pair\n",
    "                in_seq, out_seq = seq[:i], seq[i]\n",
    "                # pad input sequence\n",
    "                in_seq = pad_sequences([in_seq], maxlen=max_length)[0]\n",
    "                # encode output sequence\n",
    "                out_seq = to_categorical([out_seq], num_classes=vocab_size)[0]\n",
    "                # store\n",
    "                X1.append(food)\n",
    "                X2.append(in_seq)\n",
    "                y.append(out_seq)\n",
    "            # yield the batch data\n",
    "            if n==num_foods_per_batch:\n",
    "                yield [[array(X1), array(X2)], array(y)]\n",
    "                X1, X2, y = list(), list(), list()\n",
    "                n=0"
   ]
  },
  {
   "cell_type": "markdown",
   "metadata": {},
   "source": [
    "## Word Embeddings"
   ]
  },
  {
   "cell_type": "code",
   "execution_count": 15,
   "metadata": {},
   "outputs": [
    {
     "name": "stdout",
     "output_type": "stream",
     "text": [
      "CPU times: user 40.1 s, sys: 1.05 s, total: 41.2 s\n",
      "Wall time: 42.4 s\n"
     ]
    }
   ],
   "source": [
    "%%time\n",
    "# Load Glove vectors\n",
    "glove_dir = '../dataset/glove'\n",
    "embeddings_index = {} # empty dictionary\n",
    "f = open(os.path.join(glove_dir, 'glove.6B.200d.txt'), encoding=\"utf-8\")\n",
    "\n",
    "for line in f:\n",
    "    values = line.split()\n",
    "    word = values[0]\n",
    "    coefs = np.asarray(values[1:], dtype='float32')\n",
    "    embeddings_index[word] = coefs\n",
    "f.close()"
   ]
  },
  {
   "cell_type": "code",
   "execution_count": 16,
   "metadata": {},
   "outputs": [],
   "source": [
    "embedding_dim = 200# Get 200-dim dense vector for each of the 10000 words in out vocabulary\n",
    "embedding_matrix = np.zeros((vocab_size, embedding_dim))\n",
    "\n",
    "for ingred, i in wordtoix.items():\n",
    "    #if i < max_words:\n",
    "    # else np.zeros((200,))\n",
    "    embedding_vector = np.sum([embeddings_index.get(word) for word in ingred.split(\"_\") if embeddings_index.get(word) is not None], axis = 0)\n",
    "    if embedding_vector is not None:\n",
    "        # Words not found in the embedding index will be all zeros\n",
    "        embedding_matrix[i] = embedding_vector"
   ]
  },
  {
   "cell_type": "markdown",
   "metadata": {},
   "source": [
    "# 12. Model Architecture"
   ]
  },
  {
   "cell_type": "code",
   "execution_count": 17,
   "metadata": {},
   "outputs": [
    {
     "name": "stdout",
     "output_type": "stream",
     "text": [
      "Food Vocab size: 1702\n",
      "jolly_time_popcorn\n",
      "startseq salt yellow_lake tricalcium_phosphate_and_artificial_butter_flavor endseq\n"
     ]
    }
   ],
   "source": [
    "cleanIngredsList = [\" \".join([\"_\".join(ingred.split()) for ingred in ingreds]) for ingreds in ingredients]\n",
    "\n",
    "cleanFood = [\"_\".join(f.split()) for f in food]\n",
    "food_vocab = list(set(cleanFood))\n",
    "food_vocab_size = len(food_vocab)\n",
    "\n",
    "print(\"Food Vocab size: %d\" % food_vocab_size)\n",
    "print(cleanFood[0])\n",
    "print(cleanIngredsList[0])"
   ]
  },
  {
   "cell_type": "code",
   "execution_count": 39,
   "metadata": {},
   "outputs": [],
   "source": [
    "\n",
    "\n",
    "# image feature extractor model\n",
    "inputs1 = Input(shape=(200,))\n",
    "# fe0 = Embedding(vocab_size, embedding_dim, mask_zero=True)(inputs1)\n",
    "fe1 = Dropout(0.5)(inputs1)\n",
    "fe2 = Dense(256, activation='relu')(fe1)\n",
    "\n",
    "# partial caption sequence model\n",
    "inputs2 = Input(shape=(max_count,))\n",
    "se1 = Embedding(vocab_size, embedding_dim, mask_zero=True)(inputs2)\n",
    "se2 = Dropout(0.5)(se1)\n",
    "se3 = LSTM(256)(se2)\n",
    "\n",
    "# decoder (feed forward) model\n",
    "decoder1 = add([fe2, se3])\n",
    "decoder2 = Dense(256, activation='relu')(decoder1)\n",
    "outputs = Dense(vocab_size, activation='softmax')(decoder2)\n",
    "\n",
    "# merge the two input models\n",
    "model = Model(inputs=[inputs1, inputs2], outputs=outputs)"
   ]
  },
  {
   "cell_type": "code",
   "execution_count": 40,
   "metadata": {},
   "outputs": [
    {
     "name": "stdout",
     "output_type": "stream",
     "text": [
      "Model: \"model_2\"\n",
      "__________________________________________________________________________________________________\n",
      "Layer (type)                    Output Shape         Param #     Connected to                     \n",
      "==================================================================================================\n",
      "input_4 (InputLayer)            (None, 51)           0                                            \n",
      "__________________________________________________________________________________________________\n",
      "input_3 (InputLayer)            (None, 200)          0                                            \n",
      "__________________________________________________________________________________________________\n",
      "embedding_2 (Embedding)         (None, 51, 200)      970600      input_4[0][0]                    \n",
      "__________________________________________________________________________________________________\n",
      "dropout_3 (Dropout)             (None, 200)          0           input_3[0][0]                    \n",
      "__________________________________________________________________________________________________\n",
      "dropout_4 (Dropout)             (None, 51, 200)      0           embedding_2[0][0]                \n",
      "__________________________________________________________________________________________________\n",
      "dense_4 (Dense)                 (None, 256)          51456       dropout_3[0][0]                  \n",
      "__________________________________________________________________________________________________\n",
      "lstm_2 (LSTM)                   (None, 256)          467968      dropout_4[0][0]                  \n",
      "__________________________________________________________________________________________________\n",
      "add_2 (Add)                     (None, 256)          0           dense_4[0][0]                    \n",
      "                                                                 lstm_2[0][0]                     \n",
      "__________________________________________________________________________________________________\n",
      "dense_5 (Dense)                 (None, 256)          65792       add_2[0][0]                      \n",
      "__________________________________________________________________________________________________\n",
      "dense_6 (Dense)                 (None, 4853)         1247221     dense_5[0][0]                    \n",
      "==================================================================================================\n",
      "Total params: 2,803,037\n",
      "Trainable params: 2,803,037\n",
      "Non-trainable params: 0\n",
      "__________________________________________________________________________________________________\n"
     ]
    }
   ],
   "source": [
    "model.summary()"
   ]
  },
  {
   "cell_type": "markdown",
   "metadata": {},
   "source": [
    "### set embedding layer to untrainable"
   ]
  },
  {
   "cell_type": "code",
   "execution_count": 41,
   "metadata": {},
   "outputs": [
    {
     "data": {
      "text/plain": [
       "<keras.layers.embeddings.Embedding at 0x7f711d71fd30>"
      ]
     },
     "execution_count": 41,
     "metadata": {},
     "output_type": "execute_result"
    }
   ],
   "source": [
    "model.layers[2]"
   ]
  },
  {
   "cell_type": "code",
   "execution_count": 42,
   "metadata": {},
   "outputs": [],
   "source": [
    "model.layers[2].set_weights([embedding_matrix])\n",
    "model.layers[2].trainable = False\n",
    "\n",
    "# model.layers[3].set_weights([embedding_matrix])\n",
    "# model.layers[3].trainable = False"
   ]
  },
  {
   "cell_type": "markdown",
   "metadata": {},
   "source": [
    "### compile the model using adam optimizer"
   ]
  },
  {
   "cell_type": "code",
   "execution_count": 43,
   "metadata": {},
   "outputs": [],
   "source": [
    "model.compile(loss='categorical_crossentropy', optimizer='adam', metrics=['accuracy'])"
   ]
  },
  {
   "cell_type": "code",
   "execution_count": 44,
   "metadata": {},
   "outputs": [],
   "source": [
    "epochs = 10\n",
    "number_pics_per_bath = 3\n",
    "# training_food_ingredients = dict(zip(cleanFood, cleanIngredsList))\n",
    "steps = len(cleanIngredsList)//number_pics_per_bath"
   ]
  },
  {
   "cell_type": "code",
   "execution_count": 45,
   "metadata": {},
   "outputs": [
    {
     "name": "stdout",
     "output_type": "stream",
     "text": [
      "CPU times: user 8 µs, sys: 0 ns, total: 8 µs\n",
      "Wall time: 16.2 µs\n"
     ]
    }
   ],
   "source": [
    "%time\n",
    "foodEmbeddings = np.zeros((len(food), embedding_dim))\n",
    "\n",
    "for i, f in enumerate(food):\n",
    "    embedding_vector = np.sum([embeddings_index.get(word) for word in f.split(\"_\") if embeddings_index.get(word) is not None], axis = 0)\n",
    "    if embedding_vector is not None:\n",
    "        # Words not found in the embedding index will be all zeros\n",
    "        foodEmbeddings[i] = embedding_vector\n"
   ]
  },
  {
   "cell_type": "code",
   "execution_count": 46,
   "metadata": {},
   "outputs": [],
   "source": [
    "# dont run\n",
    "import random\n",
    "\n",
    "validCount = int(len(cleanIngredsList) * 0.33)\n",
    "\n",
    "validIndices = random.sample(range(len(cleanIngredsList)), validCount)\n",
    "trainIndeces = [i for i in range(len(cleanIngredsList)) if i not in validIndices]\n",
    "\n",
    "cleanIngredsList_valid = [cleanIngredsList[i] for i in validIndices]\n",
    "cleanIngredsList_train = [cleanIngredsList[i] for i in trainIndeces]\n",
    "foodEmbeddings_valid = [foodEmbeddings[i] for i in validIndices]\n",
    "foodEmbeddings_train = [foodEmbeddings[i] for i in trainIndeces]\n",
    "\n",
    "train_generator = data_generator(cleanIngredsList_train, foodEmbeddings_train, wordtoix, max_count, number_pics_per_bath)\n",
    "valid_generator = data_generator(cleanIngredsList_valid, foodEmbeddings_valid, wordtoix, max_count, number_pics_per_bath)\n",
    "# print(len(cleanIngredsList))\n",
    "# print(int(len(cleanIngredsList) * 0.33))\n",
    "# print(len(cleanIngredsList) - int(len(cleanIngredsList) * 0.33))"
   ]
  },
  {
   "cell_type": "code",
   "execution_count": 47,
   "metadata": {},
   "outputs": [
    {
     "name": "stdout",
     "output_type": "stream",
     "text": [
      "Epoch 1/1\n",
      "584/584 [==============================] - 655s 1s/step - loss: 1.4422 - accuracy: 0.4808 - val_loss: 1.2317 - val_accuracy: 0.4568\n",
      "Epoch 1/1\n",
      "584/584 [==============================] - 650s 1s/step - loss: 1.2697 - accuracy: 0.4940 - val_loss: 1.1908 - val_accuracy: 0.4724\n",
      "Epoch 1/1\n",
      "584/584 [==============================] - 652s 1s/step - loss: 1.2547 - accuracy: 0.5014 - val_loss: 1.1874 - val_accuracy: 0.4958\n",
      "Epoch 1/1\n",
      "584/584 [==============================] - 646s 1s/step - loss: 1.2429 - accuracy: 0.5043 - val_loss: 1.1881 - val_accuracy: 0.5004\n",
      "Epoch 1/1\n",
      "584/584 [==============================] - 669s 1s/step - loss: 1.2339 - accuracy: 0.5072 - val_loss: 1.1823 - val_accuracy: 0.5032\n",
      "Epoch 1/1\n",
      "584/584 [==============================] - 727s 1s/step - loss: 1.2253 - accuracy: 0.5096 - val_loss: 1.1802 - val_accuracy: 0.5080\n",
      "Epoch 1/1\n",
      "584/584 [==============================] - 753s 1s/step - loss: 1.2145 - accuracy: 0.5144 - val_loss: 1.1751 - val_accuracy: 0.5083\n",
      "Epoch 1/1\n",
      "584/584 [==============================] - 741s 1s/step - loss: 1.2046 - accuracy: 0.5169 - val_loss: 1.1588 - val_accuracy: 0.5138\n",
      "Epoch 1/1\n",
      "584/584 [==============================] - 652s 1s/step - loss: 1.1928 - accuracy: 0.5204 - val_loss: 1.1561 - val_accuracy: 0.5037\n",
      "Epoch 1/1\n",
      "584/584 [==============================] - 649s 1s/step - loss: 1.1775 - accuracy: 0.5278 - val_loss: 1.1524 - val_accuracy: 0.5090\n",
      "CPU times: user 6h 21min 40s, sys: 4min 42s, total: 6h 26min 22s\n",
      "Wall time: 1h 53min 17s\n"
     ]
    }
   ],
   "source": [
    "%%time\n",
    "for i in range(epochs):\n",
    "#     generator = data_generator(cleanIngredsList, foodEmbeddings, wordtoix, max_count, number_pics_per_bath)\n",
    "    train_generator = data_generator(cleanIngredsList_train, foodEmbeddings_train, wordtoix, max_count, number_pics_per_bath)\n",
    "    valid_generator = data_generator(cleanIngredsList_valid, foodEmbeddings_valid, wordtoix, max_count, number_pics_per_bath)\n",
    "    model.fit_generator(generator=train_generator, validation_data=valid_generator, validation_steps=steps, epochs=1, steps_per_epoch=steps, verbose=1)\n",
    "    model.save('./model_weights/model_' + str(i) + '.h5')\n",
    "    "
   ]
  },
  {
   "cell_type": "code",
   "execution_count": null,
   "metadata": {},
   "outputs": [
    {
     "name": "stdout",
     "output_type": "stream",
     "text": [
      "Epoch 1/1\n",
      "584/584 [==============================] - 647s 1s/step - loss: 1.1585 - accuracy: 0.5340 - val_loss: 1.1522 - val_accuracy: 0.5018\n",
      "Epoch 1/1\n",
      "584/584 [==============================] - 647s 1s/step - loss: 1.1379 - accuracy: 0.5401 - val_loss: 1.1670 - val_accuracy: 0.5014\n",
      "Epoch 1/1\n",
      "584/584 [==============================] - 677s 1s/step - loss: 1.1116 - accuracy: 0.5505 - val_loss: 1.1558 - val_accuracy: 0.4947\n",
      "Epoch 1/1\n",
      "108/584 [====>.........................] - ETA: 5:49 - loss: 1.0427 - accuracy: 0.5724"
     ]
    }
   ],
   "source": [
    "%%time\n",
    "for i in range(epochs):\n",
    "    train_generator = data_generator(cleanIngredsList_train, foodEmbeddings_train, wordtoix, max_count, number_pics_per_bath)\n",
    "    valid_generator = data_generator(cleanIngredsList_valid, foodEmbeddings_valid, wordtoix, max_count, number_pics_per_bath)\n",
    "    model.fit_generator(generator=train_generator, validation_data=valid_generator, validation_steps=steps, epochs=1, steps_per_epoch=steps, verbose=1)\n",
    "    model.save('./model_weights/model_' + str(i) + '.h5')"
   ]
  },
  {
   "cell_type": "code",
   "execution_count": null,
   "metadata": {},
   "outputs": [],
   "source": [
    "model.optimizer.learning_rate = 0.0001"
   ]
  },
  {
   "cell_type": "code",
   "execution_count": null,
   "metadata": {},
   "outputs": [],
   "source": [
    "# model.optimizer.lr = 0.0001\n",
    "epochs = 10\n",
    "number_pics_per_bath = 6\n",
    "steps = len(cleanIngredsList)//number_pics_per_bath"
   ]
  },
  {
   "cell_type": "code",
   "execution_count": null,
   "metadata": {},
   "outputs": [],
   "source": [
    "import keras\n",
    "new_model = keras.models.load_model('./model_weights/model_9.h5')\n",
    "\n",
    "for i in range(epochs):    \n",
    "    train_generator = data_generator(cleanIngredsList_train, foodEmbeddings_train, wordtoix, max_count, number_pics_per_bath)\n",
    "    valid_generator = data_generator(cleanIngredsList_valid, foodEmbeddings_valid, wordtoix, max_count, number_pics_per_bath)\n",
    "    model.fit_generator(generator=train_generator, validation_data=valid_generator, validation_steps=steps, epochs=1, steps_per_epoch=steps, verbose=1)\n",
    "    #model.save('./model_weights/model_' + str(i) + '.h5')"
   ]
  },
  {
   "cell_type": "code",
   "execution_count": 28,
   "metadata": {},
   "outputs": [],
   "source": [
    "model.save_weights('./model_weights/model_30.h5')"
   ]
  },
  {
   "cell_type": "markdown",
   "metadata": {},
   "source": [
    "# Prediction"
   ]
  },
  {
   "cell_type": "markdown",
   "metadata": {},
   "source": [
    "Load Model"
   ]
  },
  {
   "cell_type": "code",
   "execution_count": 29,
   "metadata": {},
   "outputs": [],
   "source": [
    "model.load_weights('./model_weights/model_30.h5')"
   ]
  },
  {
   "cell_type": "markdown",
   "metadata": {},
   "source": [
    "Greedy Prediction Function"
   ]
  },
  {
   "cell_type": "code",
   "execution_count": 52,
   "metadata": {},
   "outputs": [],
   "source": [
    "max_length = max_count\n",
    "def greedySearch(food):\n",
    "    in_text = 'startseq'\n",
    "#     in_text = ''\n",
    "    for i in range(max_length):\n",
    "        sequence = [wordtoix[w] for w in in_text.split() if w in wordtoix]\n",
    "        sequence = pad_sequences([sequence], maxlen=max_length)\n",
    "        print(food.shape)\n",
    "        print(sequence.shape)\n",
    "        yhat = model.predict([food,sequence], verbose=0)\n",
    "        yhat = np.argmax(yhat)\n",
    "        word = ixtoword[yhat]\n",
    "        in_text += ' ' + word\n",
    "#   in_text in_text.strip()\n",
    "        if word == 'endseq':\n",
    "            break\n",
    "    final = in_text.split()\n",
    "    final = final[1:-1]\n",
    "    final = ' '.join(final)\n",
    "    return final"
   ]
  },
  {
   "cell_type": "code",
   "execution_count": 53,
   "metadata": {},
   "outputs": [
    {
     "name": "stdout",
     "output_type": "stream",
     "text": [
      "(200,)\n",
      "Label: ginger_ground\n",
      "Actual Ingredients:  startseq ginger_was_one_of_the_first_oriental_spices_used_in_the_western_world_when_it_was_brought_from_the_east_by_the_fabled_spice_caravans_for_an_asian_flair mix_ground_ginger_with_soy_sauce toasted_spice_islands_sesame_seeds_and_minced_garlic_drizzle_over_vegetables chicken_or_steak_blend_with_butter_and_brown_sugar_pour_over_cooked_carrots_or_winter_squash_and_broil_use_ground_ginger_to_flavor_marinades curries and_baked_goods endseq\n",
      "(200,)\n",
      "(1, 51)\n"
     ]
    },
    {
     "ename": "ValueError",
     "evalue": "Error when checking input: expected input_1 to have shape (200,) but got array with shape (1,)",
     "output_type": "error",
     "traceback": [
      "\u001b[0;31m---------------------------------------------------------------------------\u001b[0m",
      "\u001b[0;31mValueError\u001b[0m                                Traceback (most recent call last)",
      "\u001b[0;32m<ipython-input-53-336a54524c22>\u001b[0m in \u001b[0;36m<module>\u001b[0;34m\u001b[0m\n\u001b[1;32m      6\u001b[0m \u001b[0mprint\u001b[0m\u001b[0;34m(\u001b[0m\u001b[0;34m\"Label: %s\"\u001b[0m \u001b[0;34m%\u001b[0m \u001b[0mcleanFood\u001b[0m\u001b[0;34m[\u001b[0m\u001b[0mkey\u001b[0m\u001b[0;34m]\u001b[0m\u001b[0;34m)\u001b[0m\u001b[0;34m\u001b[0m\u001b[0;34m\u001b[0m\u001b[0m\n\u001b[1;32m      7\u001b[0m \u001b[0mprint\u001b[0m\u001b[0;34m(\u001b[0m\u001b[0;34m\"Actual Ingredients: \"\u001b[0m\u001b[0;34m,\u001b[0m \u001b[0mcleanIngredsList\u001b[0m\u001b[0;34m[\u001b[0m\u001b[0mkey\u001b[0m\u001b[0;34m]\u001b[0m\u001b[0;34m)\u001b[0m\u001b[0;34m\u001b[0m\u001b[0;34m\u001b[0m\u001b[0m\n\u001b[0;32m----> 8\u001b[0;31m \u001b[0mprint\u001b[0m\u001b[0;34m(\u001b[0m\u001b[0;34m\"Greedy Ingredients: \"\u001b[0m\u001b[0;34m,\u001b[0m\u001b[0mgreedySearch\u001b[0m\u001b[0;34m(\u001b[0m\u001b[0mfoodEmbedding\u001b[0m\u001b[0;34m)\u001b[0m\u001b[0;34m)\u001b[0m\u001b[0;34m\u001b[0m\u001b[0;34m\u001b[0m\u001b[0m\n\u001b[0m",
      "\u001b[0;32m<ipython-input-52-8d05482092cc>\u001b[0m in \u001b[0;36mgreedySearch\u001b[0;34m(food)\u001b[0m\n\u001b[1;32m      8\u001b[0m         \u001b[0mprint\u001b[0m\u001b[0;34m(\u001b[0m\u001b[0mfood\u001b[0m\u001b[0;34m.\u001b[0m\u001b[0mshape\u001b[0m\u001b[0;34m)\u001b[0m\u001b[0;34m\u001b[0m\u001b[0;34m\u001b[0m\u001b[0m\n\u001b[1;32m      9\u001b[0m         \u001b[0mprint\u001b[0m\u001b[0;34m(\u001b[0m\u001b[0msequence\u001b[0m\u001b[0;34m.\u001b[0m\u001b[0mshape\u001b[0m\u001b[0;34m)\u001b[0m\u001b[0;34m\u001b[0m\u001b[0;34m\u001b[0m\u001b[0m\n\u001b[0;32m---> 10\u001b[0;31m         \u001b[0myhat\u001b[0m \u001b[0;34m=\u001b[0m \u001b[0mmodel\u001b[0m\u001b[0;34m.\u001b[0m\u001b[0mpredict\u001b[0m\u001b[0;34m(\u001b[0m\u001b[0;34m[\u001b[0m\u001b[0mfood\u001b[0m\u001b[0;34m,\u001b[0m\u001b[0msequence\u001b[0m\u001b[0;34m]\u001b[0m\u001b[0;34m,\u001b[0m \u001b[0mverbose\u001b[0m\u001b[0;34m=\u001b[0m\u001b[0;36m0\u001b[0m\u001b[0;34m)\u001b[0m\u001b[0;34m\u001b[0m\u001b[0;34m\u001b[0m\u001b[0m\n\u001b[0m\u001b[1;32m     11\u001b[0m         \u001b[0myhat\u001b[0m \u001b[0;34m=\u001b[0m \u001b[0mnp\u001b[0m\u001b[0;34m.\u001b[0m\u001b[0margmax\u001b[0m\u001b[0;34m(\u001b[0m\u001b[0myhat\u001b[0m\u001b[0;34m)\u001b[0m\u001b[0;34m\u001b[0m\u001b[0;34m\u001b[0m\u001b[0m\n\u001b[1;32m     12\u001b[0m         \u001b[0mword\u001b[0m \u001b[0;34m=\u001b[0m \u001b[0mixtoword\u001b[0m\u001b[0;34m[\u001b[0m\u001b[0myhat\u001b[0m\u001b[0;34m]\u001b[0m\u001b[0;34m\u001b[0m\u001b[0;34m\u001b[0m\u001b[0m\n",
      "\u001b[0;32m~/anaconda3/lib/python3.7/site-packages/keras/engine/training.py\u001b[0m in \u001b[0;36mpredict\u001b[0;34m(self, x, batch_size, verbose, steps, callbacks, max_queue_size, workers, use_multiprocessing)\u001b[0m\n\u001b[1;32m   1439\u001b[0m \u001b[0;34m\u001b[0m\u001b[0m\n\u001b[1;32m   1440\u001b[0m         \u001b[0;31m# Case 2: Symbolic tensors or Numpy array-like.\u001b[0m\u001b[0;34m\u001b[0m\u001b[0;34m\u001b[0m\u001b[0;34m\u001b[0m\u001b[0m\n\u001b[0;32m-> 1441\u001b[0;31m         \u001b[0mx\u001b[0m\u001b[0;34m,\u001b[0m \u001b[0m_\u001b[0m\u001b[0;34m,\u001b[0m \u001b[0m_\u001b[0m \u001b[0;34m=\u001b[0m \u001b[0mself\u001b[0m\u001b[0;34m.\u001b[0m\u001b[0m_standardize_user_data\u001b[0m\u001b[0;34m(\u001b[0m\u001b[0mx\u001b[0m\u001b[0;34m)\u001b[0m\u001b[0;34m\u001b[0m\u001b[0;34m\u001b[0m\u001b[0m\n\u001b[0m\u001b[1;32m   1442\u001b[0m         \u001b[0;32mif\u001b[0m \u001b[0mself\u001b[0m\u001b[0;34m.\u001b[0m\u001b[0mstateful\u001b[0m\u001b[0;34m:\u001b[0m\u001b[0;34m\u001b[0m\u001b[0;34m\u001b[0m\u001b[0m\n\u001b[1;32m   1443\u001b[0m             \u001b[0;32mif\u001b[0m \u001b[0mx\u001b[0m\u001b[0;34m[\u001b[0m\u001b[0;36m0\u001b[0m\u001b[0;34m]\u001b[0m\u001b[0;34m.\u001b[0m\u001b[0mshape\u001b[0m\u001b[0;34m[\u001b[0m\u001b[0;36m0\u001b[0m\u001b[0;34m]\u001b[0m \u001b[0;34m>\u001b[0m \u001b[0mbatch_size\u001b[0m \u001b[0;32mand\u001b[0m \u001b[0mx\u001b[0m\u001b[0;34m[\u001b[0m\u001b[0;36m0\u001b[0m\u001b[0;34m]\u001b[0m\u001b[0;34m.\u001b[0m\u001b[0mshape\u001b[0m\u001b[0;34m[\u001b[0m\u001b[0;36m0\u001b[0m\u001b[0;34m]\u001b[0m \u001b[0;34m%\u001b[0m \u001b[0mbatch_size\u001b[0m \u001b[0;34m!=\u001b[0m \u001b[0;36m0\u001b[0m\u001b[0;34m:\u001b[0m\u001b[0;34m\u001b[0m\u001b[0;34m\u001b[0m\u001b[0m\n",
      "\u001b[0;32m~/anaconda3/lib/python3.7/site-packages/keras/engine/training.py\u001b[0m in \u001b[0;36m_standardize_user_data\u001b[0;34m(self, x, y, sample_weight, class_weight, check_array_lengths, batch_size)\u001b[0m\n\u001b[1;32m    577\u001b[0m             \u001b[0mfeed_input_shapes\u001b[0m\u001b[0;34m,\u001b[0m\u001b[0;34m\u001b[0m\u001b[0;34m\u001b[0m\u001b[0m\n\u001b[1;32m    578\u001b[0m             \u001b[0mcheck_batch_axis\u001b[0m\u001b[0;34m=\u001b[0m\u001b[0;32mFalse\u001b[0m\u001b[0;34m,\u001b[0m  \u001b[0;31m# Don't enforce the batch size.\u001b[0m\u001b[0;34m\u001b[0m\u001b[0;34m\u001b[0m\u001b[0m\n\u001b[0;32m--> 579\u001b[0;31m             exception_prefix='input')\n\u001b[0m\u001b[1;32m    580\u001b[0m \u001b[0;34m\u001b[0m\u001b[0m\n\u001b[1;32m    581\u001b[0m         \u001b[0;32mif\u001b[0m \u001b[0my\u001b[0m \u001b[0;32mis\u001b[0m \u001b[0;32mnot\u001b[0m \u001b[0;32mNone\u001b[0m\u001b[0;34m:\u001b[0m\u001b[0;34m\u001b[0m\u001b[0;34m\u001b[0m\u001b[0m\n",
      "\u001b[0;32m~/anaconda3/lib/python3.7/site-packages/keras/engine/training_utils.py\u001b[0m in \u001b[0;36mstandardize_input_data\u001b[0;34m(data, names, shapes, check_batch_axis, exception_prefix)\u001b[0m\n\u001b[1;32m    143\u001b[0m                             \u001b[0;34m': expected '\u001b[0m \u001b[0;34m+\u001b[0m \u001b[0mnames\u001b[0m\u001b[0;34m[\u001b[0m\u001b[0mi\u001b[0m\u001b[0;34m]\u001b[0m \u001b[0;34m+\u001b[0m \u001b[0;34m' to have shape '\u001b[0m \u001b[0;34m+\u001b[0m\u001b[0;34m\u001b[0m\u001b[0;34m\u001b[0m\u001b[0m\n\u001b[1;32m    144\u001b[0m                             \u001b[0mstr\u001b[0m\u001b[0;34m(\u001b[0m\u001b[0mshape\u001b[0m\u001b[0;34m)\u001b[0m \u001b[0;34m+\u001b[0m \u001b[0;34m' but got array with shape '\u001b[0m \u001b[0;34m+\u001b[0m\u001b[0;34m\u001b[0m\u001b[0;34m\u001b[0m\u001b[0m\n\u001b[0;32m--> 145\u001b[0;31m                             str(data_shape))\n\u001b[0m\u001b[1;32m    146\u001b[0m     \u001b[0;32mreturn\u001b[0m \u001b[0mdata\u001b[0m\u001b[0;34m\u001b[0m\u001b[0;34m\u001b[0m\u001b[0m\n\u001b[1;32m    147\u001b[0m \u001b[0;34m\u001b[0m\u001b[0m\n",
      "\u001b[0;31mValueError\u001b[0m: Error when checking input: expected input_1 to have shape (200,) but got array with shape (1,)"
     ]
    }
   ],
   "source": [
    "z= 15\n",
    "key = z\n",
    "foodEmbedding = foodEmbeddings[key]\n",
    "print(foodEmbedding.shape)\n",
    "\n",
    "print(\"Label: %s\" % cleanFood[key])\n",
    "print(\"Actual Ingredients: \", cleanIngredsList[key])\n",
    "print(\"Greedy Ingredients: \",greedySearch(foodEmbedding))"
   ]
  },
  {
   "cell_type": "code",
   "execution_count": 51,
   "metadata": {},
   "outputs": [
    {
     "data": {
      "text/plain": [
       "(200,)"
      ]
     },
     "execution_count": 51,
     "metadata": {},
     "output_type": "execute_result"
    }
   ],
   "source": [
    "foodEmbedding.shape"
   ]
  }
 ],
 "metadata": {
  "kernelspec": {
   "display_name": "Python 3",
   "language": "python",
   "name": "python3"
  },
  "language_info": {
   "codemirror_mode": {
    "name": "ipython",
    "version": 3
   },
   "file_extension": ".py",
   "mimetype": "text/x-python",
   "name": "python",
   "nbconvert_exporter": "python",
   "pygments_lexer": "ipython3",
   "version": "3.7.3"
  }
 },
 "nbformat": 4,
 "nbformat_minor": 2
}
