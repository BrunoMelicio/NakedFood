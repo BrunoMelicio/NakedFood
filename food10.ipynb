{
  "nbformat": 4,
  "nbformat_minor": 0,
  "metadata": {
    "kernelspec": {
      "display_name": "Python 3",
      "language": "python",
      "name": "python3"
    },
    "language_info": {
      "codemirror_mode": {
        "name": "ipython",
        "version": 3
      },
      "file_extension": ".py",
      "mimetype": "text/x-python",
      "name": "python",
      "nbconvert_exporter": "python",
      "pygments_lexer": "ipython3",
      "version": "3.6.8"
    },
    "colab": {
      "name": "food10.ipynb",
      "provenance": [],
      "collapsed_sections": []
    }
  },
  "cells": [
    {
      "cell_type": "code",
      "metadata": {
        "id": "HahwXyb-mhjz",
        "colab_type": "code",
        "colab": {},
        "outputId": "62614efd-4626-4e67-c83f-34e3f8757269"
      },
      "source": [
        "from keras.preprocessing.image import ImageDataGenerator\n",
        "from keras.applications.resnet import ResNet50, preprocess_input\n",
        "from keras.layers import Dense,GlobalAveragePooling2D,Dropout\n",
        "from keras.models import Model\n",
        "from keras.optimizers import Adam\n",
        "from keras.callbacks import ModelCheckpoint,EarlyStopping,ReduceLROnPlateau"
      ],
      "execution_count": 0,
      "outputs": [
        {
          "output_type": "stream",
          "text": [
            "Using TensorFlow backend.\n"
          ],
          "name": "stderr"
        }
      ]
    },
    {
      "cell_type": "code",
      "metadata": {
        "id": "UU7mpUocmhkK",
        "colab_type": "code",
        "colab": {},
        "outputId": "78a893b4-1386-499c-edfb-640299de7b38"
      },
      "source": [
        "datagen = ImageDataGenerator(preprocessing_function=preprocess_input)\n",
        "\n",
        "input_shape = 224\n",
        "\n",
        "#change the folder name\n",
        "data_folder = '2food10/'\n",
        "train_gen = datagen.flow_from_directory(data_folder, target_size=(input_shape,input_shape), batch_size=512,class_mode='categorical',shuffle=True, color_mode='rgb')"
      ],
      "execution_count": 0,
      "outputs": [
        {
          "output_type": "stream",
          "text": [
            "Found 9999 images belonging to 10 classes.\n"
          ],
          "name": "stdout"
        }
      ]
    },
    {
      "cell_type": "code",
      "metadata": {
        "id": "e1H9oj2Bmhkb",
        "colab_type": "code",
        "colab": {}
      },
      "source": [
        "def foodModel(input_sh):\n",
        "    base_model = ResNet50(include_top=False, weights='imagenet', input_shape=(input_sh,input_sh,3), pooling=None, classes=1000)\n",
        "    for layer in base_model.layers:\n",
        "        layer.trainable = False\n",
        "    \n",
        "    X = base_model.output\n",
        "    X = GlobalAveragePooling2D()(X)\n",
        "    X = Dense(1024,activation='relu')(X)\n",
        "    X = Dropout(0.5)(X)\n",
        "    X = Dense(512,activation='relu')(X)\n",
        "    X = Dropout(0.1)(X)\n",
        "    preds = Dense(10,activation='softmax')(X)\n",
        "    \n",
        "    model = Model(inputs=base_model.input,outputs=preds)\n",
        "    return model"
      ],
      "execution_count": 0,
      "outputs": []
    },
    {
      "cell_type": "code",
      "metadata": {
        "id": "wcebTiZMmhko",
        "colab_type": "code",
        "colab": {}
      },
      "source": [
        "#from keras.models import load_model\n",
        "\n",
        "foodModel = foodModel(input_shape)\n",
        "#foodModel = load_model('2food10M.h5')\n",
        "\n",
        "adam = Adam(lr=0.001, beta_1=0.9, beta_2=0.999)\n",
        "foodModel.compile(optimizer=adam,loss='categorical_crossentropy', metrics=['accuracy'])"
      ],
      "execution_count": 0,
      "outputs": []
    },
    {
      "cell_type": "code",
      "metadata": {
        "id": "0VV-Iq_gmhkz",
        "colab_type": "code",
        "colab": {},
        "outputId": "e473dde0-4abd-470c-b28c-a19083b84375"
      },
      "source": [
        "cbs = ModelCheckpoint('resnet50.h5', monitor='loss', verbose=1, save_best_only=True, save_weights_only=False, mode='auto', period=1)\n",
        "cbs2 = EarlyStopping(monitor='loss', min_delta=0, patience=20, verbose=1, mode='auto', baseline=None, restore_best_weights=True)\n",
        "cbs3 = ReduceLROnPlateau(monitor='loss', factor=0.1, patience=5, verbose=0, mode='auto', min_delta=0.0001, cooldown=0, min_lr=0)\n",
        "\n",
        "step_size_train = train_gen.n//train_gen.batch_size\n",
        "foodModel.fit_generator(generator=train_gen,steps_per_epoch=step_size_train,epochs=30,verbose=1,callbacks=[cbs,cbs2,cbs3])"
      ],
      "execution_count": 0,
      "outputs": [
        {
          "output_type": "stream",
          "text": [
            "Epoch 1/30\n",
            "312/312 [==============================] - 427s 1s/step - loss: 9.4059 - accuracy: 0.3641\n",
            "\n",
            "Epoch 00001: loss improved from inf to 9.41728, saving model to 2food10M.h5\n",
            "Epoch 2/30\n",
            "312/312 [==============================] - 406s 1s/step - loss: 4.3220 - accuracy: 0.5208\n",
            "\n",
            "Epoch 00002: loss improved from 9.41728 to 4.31883, saving model to 2food10M.h5\n",
            "Epoch 3/30\n",
            "312/312 [==============================] - 401s 1s/step - loss: 3.0326 - accuracy: 0.5656\n",
            "\n",
            "Epoch 00003: loss improved from 4.31883 to 3.02945, saving model to 2food10M.h5\n",
            "Epoch 4/30\n",
            "312/312 [==============================] - 397s 1s/step - loss: 2.3500 - accuracy: 0.5905\n",
            "\n",
            "Epoch 00004: loss improved from 3.02945 to 2.35133, saving model to 2food10M.h5\n",
            "Epoch 5/30\n",
            "312/312 [==============================] - 398s 1s/step - loss: 1.9605 - accuracy: 0.6077\n",
            "\n",
            "Epoch 00005: loss improved from 2.35133 to 1.96258, saving model to 2food10M.h5\n",
            "Epoch 6/30\n",
            "312/312 [==============================] - 403s 1s/step - loss: 1.7423 - accuracy: 0.6134\n",
            "\n",
            "Epoch 00006: loss improved from 1.96258 to 1.74181, saving model to 2food10M.h5\n",
            "Epoch 7/30\n",
            "262/312 [========================>.....] - ETA: 1:04 - loss: 1.5814 - accuracy: 0.6285"
          ],
          "name": "stdout"
        }
      ]
    },
    {
      "cell_type": "code",
      "metadata": {
        "id": "P830rQesmhk_",
        "colab_type": "code",
        "colab": {}
      },
      "source": [
        ""
      ],
      "execution_count": 0,
      "outputs": []
    }
  ]
}